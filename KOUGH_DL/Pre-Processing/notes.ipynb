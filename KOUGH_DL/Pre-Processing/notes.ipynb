{
  "cells": [
    {
      "cell_type": "markdown",
      "metadata": {},
      "source": [
        "Run in Azure ML. "
      ]
    },
    {
      "cell_type": "markdown",
      "metadata": {},
      "source": [
        "Below code is to download and unpack the dataset zip from Kaggle.com"
      ]
    },
    {
      "cell_type": "code",
      "execution_count": null,
      "metadata": {
        "gather": {
          "logged": 1645805104364
        }
      },
      "outputs": [],
      "source": [
        "import os\n",
        "import zipfile\n",
        "# name of the zip file you want to unzip\n",
        "local_zip = 'coronahack-respiratory-sound-dataset.zip'\n",
        "# opening a file with mode parameter 'r' : read existing file\n",
        "zip_ref = zipfile.ZipFile(local_zip, 'r')\n",
        "# extract all contents of the zip file\n",
        "zip_ref.extractall('')\n",
        "# close the file\n",
        "zip_ref.close()"
      ]
    },
    {
      "cell_type": "markdown",
      "metadata": {},
      "source": [
        "Install Librosa - audio analsis package. \n"
      ]
    },
    {
      "cell_type": "code",
      "execution_count": null,
      "metadata": {
        "jupyter": {
          "outputs_hidden": false,
          "source_hidden": false
        },
        "nteract": {
          "transient": {
            "deleting": false
          }
        }
      },
      "outputs": [],
      "source": [
        "!pip install librosa"
      ]
    },
    {
      "cell_type": "markdown",
      "metadata": {},
      "source": [
        "Pre-Processing of Coronahack Respiratory Sound Dataset below... "
      ]
    },
    {
      "cell_type": "code",
      "execution_count": null,
      "metadata": {
        "gather": {
          "logged": 1645881097761
        },
        "jupyter": {
          "outputs_hidden": false,
          "source_hidden": false
        },
        "nteract": {
          "transient": {
            "deleting": false
          }
        }
      },
      "outputs": [],
      "source": [
        "import math\n",
        "import os\n",
        "import librosa\n",
        "import json\n",
        "\n",
        "training_dataset_path = 'CoronaHack-Respiratory-Sound-Dataset/data/train'\n",
        "SAMPLE_RATE = 22050\n",
        "DURATION = 30  # in seconds\n",
        "SAMPLES_PER_TRACK = SAMPLE_RATE * DURATION\n",
        "\n",
        "numberOfSegments = 10\n",
        "hopLength = 512\n",
        "n_MFCC = 13\n",
        "n_FFT = 2048\n",
        "\n",
        "data = {\n",
        "    \"mapping\": [\n",
        "        'Healthy',\n",
        "        'Astma',\n",
        "        'Covid',\n",
        "        'Astma-Covid',\n",
        "        'inconclusive'\n",
        "    ],\n",
        "    \"mfcc\": [],\n",
        "    \"labels\": [],\n",
        "}\n",
        "\n",
        "\n",
        "def getLabel(metadata):\n",
        "    label = 0\n",
        "    try:\n",
        "        if metadata['asthma'] == 'True':\n",
        "            # has asthma\n",
        "            if metadata['covid_status'] == 'healthy':\n",
        "                print('asthma')\n",
        "                return 1\n",
        "            print('asthma + covid')\n",
        "            return 3\n",
        "    except:\n",
        "        label = 0\n",
        "    try:\n",
        "        if metadata['covid_status'] == 'healthy':\n",
        "            return 0\n",
        "        else:\n",
        "            return 1\n",
        "    except:\n",
        "        return 4\n",
        "\n",
        "\n",
        "for i, (dirpath, _, filenames) in enumerate(os.walk(training_dataset_path)):\n",
        "    if dirpath == training_dataset_path:\n",
        "        continue\n",
        "\n",
        "    if len(filenames) == 0:\n",
        "        continue\n",
        "\n",
        "    metadata = {}\n",
        "\n",
        "    for file in filenames:\n",
        "        path = os.path.join(dirpath, file)\n",
        "\n",
        "        if str(file) == 'metadata.json':\n",
        "            f = open(path)\n",
        "            metadata = json.load(f)\n",
        "\n",
        "            label = getLabel(metadata)\n",
        "            data[\"labels\"].append(label)\n",
        "\n",
        "            continue\n",
        "\n",
        "        if str(file) == 'breathing-deep.wav':\n",
        "            # load audio\n",
        "            try:\n",
        "                signal, sampleRate = librosa.load(path, sr=SAMPLE_RATE)\n",
        "            except:\n",
        "                print(\"Error processing\")\n",
        "                continue\n",
        "\n",
        "            # get MFCC\n",
        "            MFCC = librosa.feature.mfcc(\n",
        "                y=signal,\n",
        "                sr=sampleRate,\n",
        "                n_fft=n_FFT,\n",
        "                n_mfcc=n_MFCC,\n",
        "                hop_length=hopLength).T\n",
        "\n",
        "            # store mfcc for segment\n",
        "            data[\"mfcc\"].append(MFCC.tolist())\n",
        "\n"
      ]
    },
    {
      "cell_type": "markdown",
      "metadata": {},
      "source": [
        "Just some output to see number of MFCC created during pre-processing. "
      ]
    },
    {
      "cell_type": "code",
      "execution_count": null,
      "metadata": {
        "gather": {
          "logged": 1645883036127
        },
        "jupyter": {
          "outputs_hidden": false,
          "source_hidden": false
        },
        "nteract": {
          "transient": {
            "deleting": false
          }
        }
      },
      "outputs": [],
      "source": [
        "# number of mfcc from data\n",
        "\n",
        "count = 0\n",
        "for i in range(0, len(data[\"mfcc\"])):\n",
        "    for j in range(0, len(data[\"mfcc\"][i])):\n",
        "        for mffcc in data[\"mfcc\"][i][j]:\n",
        "            count += 1\n",
        "\n",
        "print(\"number of MFCCs: {}\".format(count))\n"
      ]
    },
    {
      "cell_type": "code",
      "execution_count": null,
      "metadata": {
        "jupyter": {
          "outputs_hidden": false,
          "source_hidden": false
        },
        "nteract": {
          "transient": {
            "deleting": false
          }
        }
      },
      "outputs": [],
      "source": []
    }
  ],
  "metadata": {
    "kernel_info": {
      "name": "python3-azureml"
    },
    "kernelspec": {
      "display_name": "Python 3.6 - AzureML",
      "language": "python",
      "name": "python3-azureml"
    },
    "language_info": {
      "codemirror_mode": {
        "name": "ipython",
        "version": 3
      },
      "file_extension": ".py",
      "mimetype": "text/x-python",
      "name": "python",
      "nbconvert_exporter": "python",
      "pygments_lexer": "ipython3",
      "version": "3.6.9"
    },
    "microsoft": {
      "host": {
        "AzureML": {
          "notebookHasBeenCompleted": true
        }
      }
    },
    "nteract": {
      "version": "nteract-front-end@1.0.0"
    }
  },
  "nbformat": 4,
  "nbformat_minor": 2
}
